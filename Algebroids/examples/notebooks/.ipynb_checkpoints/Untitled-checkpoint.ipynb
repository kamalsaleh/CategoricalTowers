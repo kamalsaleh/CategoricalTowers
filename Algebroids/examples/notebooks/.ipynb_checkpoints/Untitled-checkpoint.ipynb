{
 "cells": [
  {
   "cell_type": "code",
   "execution_count": 1,
   "id": "76709eb6-40ae-43c6-9174-d838e3aefcf7",
   "metadata": {},
   "outputs": [
    {
     "name": "stdout",
     "output_type": "stream",
     "text": [
      "CapAndHomalg v\u001b[32m1.5.3\u001b[39m\n",
      "Imported OSCAR's components GAP and Singular_jll\n",
      "Type: ?CapAndHomalg for more information\n"
     ]
    }
   ],
   "source": [
    "using CapAndHomalg"
   ]
  },
  {
   "cell_type": "code",
   "execution_count": 2,
   "id": "ac15e76f-2a23-4e94-8eca-c7f952c1f358",
   "metadata": {},
   "outputs": [],
   "source": [
    "LoadPackage( \"Algebroids\" )"
   ]
  },
  {
   "cell_type": "code",
   "execution_count": 16,
   "id": "925c6b10-9459-49bc-89d5-7dc42c89f66a",
   "metadata": {},
   "outputs": [
    {
     "data": {
      "text/plain": [
       "GAP: Quiver( \"(A,B)[f:A-≻B,h:A-≻B,g:B-≻A]\" )"
      ]
     },
     "execution_count": 16,
     "metadata": {},
     "output_type": "execute_result"
    }
   ],
   "source": [
    "q = CreateCapQuiver( g\"(A,B)[f:A->B,h:A->B,g:B->A]\", colors = true )"
   ]
  },
  {
   "cell_type": "code",
   "execution_count": 17,
   "id": "d0006747-f579-4ffd-a921-b81751568cbb",
   "metadata": {},
   "outputs": [
    {
     "data": {
      "text/plain": [
       "GAP: PathCategory( Quiver( \"(A,B)[f:A-≻B,h:A-≻B,g:B-≻A]\" ) )"
      ]
     },
     "execution_count": 17,
     "metadata": {},
     "output_type": "execute_result"
    }
   ],
   "source": [
    "C = PathCategory( q )"
   ]
  },
  {
   "cell_type": "code",
   "execution_count": 18,
   "id": "346fbcb6-3a6c-40c6-82c9-8e7bd18a0fc4",
   "metadata": {},
   "outputs": [
    {
     "data": {
      "text/plain": [
       "2-element Vector{Vector{GapObj}}:\n",
       " [GAP: \u001b[32mf•g\u001b[0m\u001b[31m:\u001b[34m(A)\u001b[0m\u001b[31m -≻ \u001b[34m(A)\u001b[0m, GAP: \u001b[32mid(A)\u001b[0m\u001b[31m:\u001b[34m(A)\u001b[0m\u001b[31m -≻ \u001b[34m(A)\u001b[0m]\n",
       " [GAP: \u001b[32mg•h\u001b[0m\u001b[31m:\u001b[34m(B)\u001b[0m\u001b[31m -≻ \u001b[34m(B)\u001b[0m, GAP: \u001b[32mid(B)\u001b[0m\u001b[31m:\u001b[34m(B)\u001b[0m\u001b[31m -≻ \u001b[34m(B)\u001b[0m]"
      ]
     },
     "execution_count": 18,
     "metadata": {},
     "output_type": "execute_result"
    }
   ],
   "source": [
    "rels = [ [ C.fg, C.id_A ], [ C.gh, C.id_B ] ]"
   ]
  },
  {
   "cell_type": "code",
   "execution_count": 19,
   "id": "0af2625b-a439-48da-a883-4fc262697214",
   "metadata": {},
   "outputs": [
    {
     "data": {
      "text/plain": [
       "GAP: PathCategory( Quiver( \"(A,B)[f:A-≻B,h:A-≻B,g:B-≻A]\" ) ) / [ f•g = id(A), g•h = id(B) ]"
      ]
     },
     "execution_count": 19,
     "metadata": {},
     "output_type": "execute_result"
    }
   ],
   "source": [
    "Q = C / rels"
   ]
  },
  {
   "cell_type": "code",
   "execution_count": 20,
   "id": "67600f3f-0ba5-43f6-9152-36730ce6fee8",
   "metadata": {},
   "outputs": [
    {
     "data": {
      "text/plain": [
       "true"
      ]
     },
     "execution_count": 20,
     "metadata": {},
     "output_type": "execute_result"
    }
   ],
   "source": [
    "Q.f == Q.h"
   ]
  },
  {
   "cell_type": "code",
   "execution_count": null,
   "id": "e0b5bca2-cd24-497a-b1b1-5fc2c22d9ae6",
   "metadata": {},
   "outputs": [],
   "source": []
  }
 ],
 "metadata": {
  "kernelspec": {
   "display_name": "Julia 1.8.2",
   "language": "julia",
   "name": "julia-1.8"
  },
  "language_info": {
   "file_extension": ".jl",
   "mimetype": "application/julia",
   "name": "julia",
   "version": "1.8.2"
  }
 },
 "nbformat": 4,
 "nbformat_minor": 5
}
